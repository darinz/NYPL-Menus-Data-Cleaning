{
 "cells": [
  {
   "cell_type": "markdown",
   "id": "4ae203aa-692c-40d3-b3f2-9f58f33fb2df",
   "metadata": {},
   "source": [
    "# Project - \"What's on the Menu?\" pandas Data Cleaning"
   ]
  },
  {
   "cell_type": "code",
   "execution_count": 1,
   "id": "f90c3e65-b087-475f-80e4-43f358350593",
   "metadata": {},
   "outputs": [],
   "source": [
    "import numpy as np\n",
    "import pandas as pd"
   ]
  },
  {
   "cell_type": "markdown",
   "id": "6ef3a83b-fe1d-4e43-a169-26309ba007f2",
   "metadata": {
    "jp-MarkdownHeadingCollapsed": true
   },
   "source": [
    "# Load Data"
   ]
  },
  {
   "cell_type": "markdown",
   "id": "b67cb5c8-666a-4ff1-ad8f-df84b8239796",
   "metadata": {},
   "source": [
    "Read the csv file that has been cleaned using OpenRefine (OR)."
   ]
  },
  {
   "cell_type": "code",
   "execution_count": 2,
   "id": "822c2b5c-da97-4226-9518-1df32f2b329f",
   "metadata": {},
   "outputs": [],
   "source": [
    "dish = pd.read_csv(\"./Dish_OR-clean.csv\")"
   ]
  },
  {
   "cell_type": "code",
   "execution_count": 3,
   "id": "de9a2a4e-c263-4b46-b471-ee69f3e40396",
   "metadata": {},
   "outputs": [
    {
     "data": {
      "text/html": [
       "<div>\n",
       "<style scoped>\n",
       "    .dataframe tbody tr th:only-of-type {\n",
       "        vertical-align: middle;\n",
       "    }\n",
       "\n",
       "    .dataframe tbody tr th {\n",
       "        vertical-align: top;\n",
       "    }\n",
       "\n",
       "    .dataframe thead th {\n",
       "        text-align: right;\n",
       "    }\n",
       "</style>\n",
       "<table border=\"1\" class=\"dataframe\">\n",
       "  <thead>\n",
       "    <tr style=\"text-align: right;\">\n",
       "      <th></th>\n",
       "      <th>id</th>\n",
       "      <th>name</th>\n",
       "      <th>menus_appeared</th>\n",
       "      <th>times_appeared</th>\n",
       "      <th>first_appeared</th>\n",
       "      <th>last_appeared</th>\n",
       "      <th>lowest_price</th>\n",
       "      <th>highest_price</th>\n",
       "    </tr>\n",
       "  </thead>\n",
       "  <tbody>\n",
       "    <tr>\n",
       "      <th>0</th>\n",
       "      <td>1</td>\n",
       "      <td>Consomme, Printaniere Royal</td>\n",
       "      <td>8</td>\n",
       "      <td>8</td>\n",
       "      <td>1897</td>\n",
       "      <td>1927</td>\n",
       "      <td>0.20</td>\n",
       "      <td>0.4</td>\n",
       "    </tr>\n",
       "    <tr>\n",
       "      <th>1</th>\n",
       "      <td>2</td>\n",
       "      <td>Chicken Gumbo</td>\n",
       "      <td>111</td>\n",
       "      <td>117</td>\n",
       "      <td>1895</td>\n",
       "      <td>1960</td>\n",
       "      <td>0.10</td>\n",
       "      <td>0.8</td>\n",
       "    </tr>\n",
       "    <tr>\n",
       "      <th>2</th>\n",
       "      <td>3</td>\n",
       "      <td>Tomato Aux Croutons</td>\n",
       "      <td>13</td>\n",
       "      <td>13</td>\n",
       "      <td>1893</td>\n",
       "      <td>1917</td>\n",
       "      <td>0.25</td>\n",
       "      <td>0.4</td>\n",
       "    </tr>\n",
       "    <tr>\n",
       "      <th>3</th>\n",
       "      <td>4</td>\n",
       "      <td>Onion Au Gratin</td>\n",
       "      <td>41</td>\n",
       "      <td>41</td>\n",
       "      <td>1900</td>\n",
       "      <td>1971</td>\n",
       "      <td>0.25</td>\n",
       "      <td>1.0</td>\n",
       "    </tr>\n",
       "    <tr>\n",
       "      <th>4</th>\n",
       "      <td>5</td>\n",
       "      <td>St Emilion</td>\n",
       "      <td>66</td>\n",
       "      <td>68</td>\n",
       "      <td>1881</td>\n",
       "      <td>1981</td>\n",
       "      <td>0.00</td>\n",
       "      <td>18.0</td>\n",
       "    </tr>\n",
       "  </tbody>\n",
       "</table>\n",
       "</div>"
      ],
      "text/plain": [
       "   id                         name  menus_appeared  times_appeared  \\\n",
       "0   1  Consomme, Printaniere Royal               8               8   \n",
       "1   2                Chicken Gumbo             111             117   \n",
       "2   3          Tomato Aux Croutons              13              13   \n",
       "3   4              Onion Au Gratin              41              41   \n",
       "4   5                   St Emilion              66              68   \n",
       "\n",
       "   first_appeared  last_appeared  lowest_price  highest_price  \n",
       "0            1897           1927          0.20            0.4  \n",
       "1            1895           1960          0.10            0.8  \n",
       "2            1893           1917          0.25            0.4  \n",
       "3            1900           1971          0.25            1.0  \n",
       "4            1881           1981          0.00           18.0  "
      ]
     },
     "execution_count": 3,
     "metadata": {},
     "output_type": "execute_result"
    }
   ],
   "source": [
    "dish.head()"
   ]
  },
  {
   "cell_type": "markdown",
   "id": "b7c7ba19-02b3-4861-bd96-743abc2a8115",
   "metadata": {},
   "source": [
    "# Data Summary"
   ]
  },
  {
   "cell_type": "code",
   "execution_count": 4,
   "id": "280c1350-e7d3-4dbd-a076-c417958aaf40",
   "metadata": {},
   "outputs": [
    {
     "name": "stdout",
     "output_type": "stream",
     "text": [
      "<class 'pandas.core.frame.DataFrame'>\n",
      "RangeIndex: 423397 entries, 0 to 423396\n",
      "Data columns (total 8 columns):\n",
      " #   Column          Non-Null Count   Dtype  \n",
      "---  ------          --------------   -----  \n",
      " 0   id              423397 non-null  int64  \n",
      " 1   name            423397 non-null  object \n",
      " 2   menus_appeared  423397 non-null  int64  \n",
      " 3   times_appeared  423397 non-null  int64  \n",
      " 4   first_appeared  423397 non-null  int64  \n",
      " 5   last_appeared   423397 non-null  int64  \n",
      " 6   lowest_price    394297 non-null  float64\n",
      " 7   highest_price   394297 non-null  float64\n",
      "dtypes: float64(2), int64(5), object(1)\n",
      "memory usage: 25.8+ MB\n",
      "None\n"
     ]
    }
   ],
   "source": [
    "print(dish.info())"
   ]
  },
  {
   "cell_type": "markdown",
   "id": "7d57d0b5-3604-4266-b832-7db9be655e62",
   "metadata": {},
   "source": [
    "# Data Profiling"
   ]
  },
  {
   "cell_type": "markdown",
   "id": "96a7ddfd-ec87-496e-9698-03ade5d8a4bc",
   "metadata": {},
   "source": [
    "Perform data profiling."
   ]
  },
  {
   "cell_type": "markdown",
   "id": "939e7b5e-cbdb-43ce-9f52-f124f79f8d4d",
   "metadata": {},
   "source": [
    "## Profile Dish ID"
   ]
  },
  {
   "cell_type": "code",
   "execution_count": 5,
   "id": "d7f719a5-ea71-4e9e-b28e-8510eabaf822",
   "metadata": {},
   "outputs": [
    {
     "name": "stdout",
     "output_type": "stream",
     "text": [
      "IDs:\n",
      "count    423397.000000\n",
      "mean     264456.594900\n",
      "std      150489.070889\n",
      "min           1.000000\n",
      "25%      132374.000000\n",
      "50%      269636.000000\n",
      "75%      397135.000000\n",
      "max      515677.000000\n",
      "Name: id, dtype: float64\n"
     ]
    }
   ],
   "source": [
    "# Profile IDs\n",
    "profile_id = dish[\"id\"].describe(include='all')\n",
    "print(f\"IDs:\\n{profile_id}\")"
   ]
  },
  {
   "cell_type": "code",
   "execution_count": 6,
   "id": "87e3c85b-e6a9-4e73-869e-24842be6c6b5",
   "metadata": {},
   "outputs": [
    {
     "name": "stdout",
     "output_type": "stream",
     "text": [
      "Number of NULL IDs: 0\n",
      "Number of NON-NULL IDs: 423397\n"
     ]
    }
   ],
   "source": [
    "# Count the number of null and non-null id rows\n",
    "num_null_id = dish['id'].isnull().sum()\n",
    "num_non_null_id = dish['id'].notnull().sum()\n",
    "print(f\"Number of NULL IDs: {num_null_id}\")\n",
    "print(f\"Number of NON-NULL IDs: {num_non_null_id}\")"
   ]
  },
  {
   "cell_type": "markdown",
   "id": "a62e7703-1e60-4189-9de0-bb82bbc06b23",
   "metadata": {},
   "source": [
    "## Profile Dish Name"
   ]
  },
  {
   "cell_type": "code",
   "execution_count": 7,
   "id": "d54540d7-6a42-4815-8495-828cfd2068a4",
   "metadata": {},
   "outputs": [
    {
     "name": "stdout",
     "output_type": "stream",
     "text": [
      "IDs:\n",
      "count                   423397\n",
      "unique                  343863\n",
      "top       Fried Sweet Potatoes\n",
      "freq                        48\n",
      "Name: name, dtype: object\n"
     ]
    }
   ],
   "source": [
    "# Profile Dish Name\n",
    "profile_name = dish[\"name\"].describe(include='all')\n",
    "print(f\"IDs:\\n{profile_name}\")"
   ]
  },
  {
   "cell_type": "code",
   "execution_count": 8,
   "id": "36f28dde-3f57-450d-8c42-e7034b54ed7a",
   "metadata": {},
   "outputs": [
    {
     "name": "stdout",
     "output_type": "stream",
     "text": [
      "Number of NULL Name: 0\n",
      "Number of NON-NULL Name: 423397\n"
     ]
    }
   ],
   "source": [
    "# Count the number of null and non-null id rows\n",
    "num_null_name = dish['name'].isnull().sum()\n",
    "num_non_null_name = dish['name'].notnull().sum()\n",
    "print(f\"Number of NULL Name: {num_null_name}\")\n",
    "print(f\"Number of NON-NULL Name: {num_non_null_name}\")"
   ]
  },
  {
   "cell_type": "markdown",
   "id": "8d7f1e78-d73a-454b-8460-9790c5288b49",
   "metadata": {},
   "source": [
    "## Profile Dish times_appeared"
   ]
  },
  {
   "cell_type": "code",
   "execution_count": 9,
   "id": "3746ce09-1838-4242-8001-e9448ced6f59",
   "metadata": {},
   "outputs": [
    {
     "name": "stdout",
     "output_type": "stream",
     "text": [
      "IDs:\n",
      "count    423397.000000\n",
      "mean          3.146794\n",
      "std          29.962122\n",
      "min          -6.000000\n",
      "25%           1.000000\n",
      "50%           1.000000\n",
      "75%           1.000000\n",
      "max        8484.000000\n",
      "Name: times_appeared, dtype: float64\n"
     ]
    }
   ],
   "source": [
    "times_appeared = dish[\"times_appeared\"].describe(include='all')\n",
    "print(f\"IDs:\\n{times_appeared}\")"
   ]
  },
  {
   "cell_type": "code",
   "execution_count": 10,
   "id": "87e3e5c4-8f6d-4580-aca1-5665ecc7956f",
   "metadata": {},
   "outputs": [
    {
     "name": "stdout",
     "output_type": "stream",
     "text": [
      "Number of NULL: 0\n",
      "Number of NON-NULL: 423397\n"
     ]
    }
   ],
   "source": [
    "num_null = dish['times_appeared'].isnull().sum()\n",
    "num_non_null = dish['times_appeared'].notnull().sum()\n",
    "print(f\"Number of NULL: {num_null}\")\n",
    "print(f\"Number of NON-NULL: {num_non_null}\")"
   ]
  },
  {
   "cell_type": "markdown",
   "id": "30ed6013-53f3-4c2a-95b8-3b7166264446",
   "metadata": {},
   "source": [
    "## First Appear"
   ]
  },
  {
   "cell_type": "code",
   "execution_count": 11,
   "id": "8f658b1f-0973-44c2-a6ca-0b8147b0e396",
   "metadata": {},
   "outputs": [
    {
     "name": "stdout",
     "output_type": "stream",
     "text": [
      "IDs:\n",
      "count    423397.000000\n",
      "mean       1675.514555\n",
      "std         651.321461\n",
      "min           0.000000\n",
      "25%        1900.000000\n",
      "50%        1914.000000\n",
      "75%        1949.000000\n",
      "max        2928.000000\n",
      "Name: first_appeared, dtype: float64\n"
     ]
    }
   ],
   "source": [
    "first_appeared = dish[\"first_appeared\"].describe(include='all')\n",
    "print(f\"IDs:\\n{first_appeared}\")"
   ]
  },
  {
   "cell_type": "code",
   "execution_count": 12,
   "id": "ce731007-5663-4f3f-9b8d-e98b938ecaf4",
   "metadata": {},
   "outputs": [
    {
     "name": "stdout",
     "output_type": "stream",
     "text": [
      "Number of NULL: 0\n",
      "Number of NON-NULL: 423397\n"
     ]
    }
   ],
   "source": [
    "num_null = dish['first_appeared'].isnull().sum()\n",
    "num_non_null = dish['first_appeared'].notnull().sum()\n",
    "print(f\"Number of NULL: {num_null}\")\n",
    "print(f\"Number of NON-NULL: {num_non_null}\")"
   ]
  },
  {
   "cell_type": "markdown",
   "id": "38b48b0e-6032-47d9-b6c8-1da6f73b3cba",
   "metadata": {},
   "source": [
    "## Last Appear"
   ]
  },
  {
   "cell_type": "code",
   "execution_count": 13,
   "id": "d57fea48-c692-4133-9528-c33ffbb66e9e",
   "metadata": {},
   "outputs": [
    {
     "name": "stdout",
     "output_type": "stream",
     "text": [
      "IDs:\n",
      "count    423397.000000\n",
      "mean       1679.299738\n",
      "std         651.934580\n",
      "min           0.000000\n",
      "25%        1900.000000\n",
      "50%        1917.000000\n",
      "75%        1955.000000\n",
      "max        2928.000000\n",
      "Name: last_appeared, dtype: float64\n"
     ]
    }
   ],
   "source": [
    "last_appeared = dish[\"last_appeared\"].describe(include='all')\n",
    "print(f\"IDs:\\n{last_appeared}\")"
   ]
  },
  {
   "cell_type": "code",
   "execution_count": 14,
   "id": "838055cf-e9ef-423e-9069-acde3382cb07",
   "metadata": {},
   "outputs": [
    {
     "name": "stdout",
     "output_type": "stream",
     "text": [
      "Number of NULL: 0\n",
      "Number of NON-NULL: 423397\n"
     ]
    }
   ],
   "source": [
    "num_null = dish['last_appeared'].isnull().sum()\n",
    "num_non_null = dish['last_appeared'].notnull().sum()\n",
    "print(f\"Number of NULL: {num_null}\")\n",
    "print(f\"Number of NON-NULL: {num_non_null}\")"
   ]
  },
  {
   "cell_type": "markdown",
   "id": "4d990bc2-b8f7-485a-ae34-d95119208ff8",
   "metadata": {},
   "source": [
    "# Remove Duplicates"
   ]
  },
  {
   "cell_type": "code",
   "execution_count": 15,
   "id": "386fec08-d6d1-492f-9297-878d3222f2d7",
   "metadata": {},
   "outputs": [
    {
     "name": "stdout",
     "output_type": "stream",
     "text": [
      "Empty DataFrame\n",
      "Columns: [id, name, menus_appeared, times_appeared, first_appeared, last_appeared, lowest_price, highest_price]\n",
      "Index: []\n"
     ]
    }
   ],
   "source": [
    "# Identify duplicate rows based on the id column\n",
    "duplicate_rows = dish[dish['id'].duplicated()]\n",
    "\n",
    "# Print the duplicate rows\n",
    "print(duplicate_rows)"
   ]
  },
  {
   "cell_type": "code",
   "execution_count": 16,
   "id": "4b723113-f84e-4dc5-9333-1fb39111fa41",
   "metadata": {},
   "outputs": [],
   "source": [
    "# Remove duplicates based on the id column\n",
    "no_dup_dish = dish.drop_duplicates(subset='id')"
   ]
  },
  {
   "cell_type": "code",
   "execution_count": 17,
   "id": "931e5920-1524-4090-831b-f6707fed29d4",
   "metadata": {},
   "outputs": [
    {
     "name": "stdout",
     "output_type": "stream",
     "text": [
      "<class 'pandas.core.frame.DataFrame'>\n",
      "Int64Index: 423397 entries, 0 to 423396\n",
      "Data columns (total 8 columns):\n",
      " #   Column          Non-Null Count   Dtype  \n",
      "---  ------          --------------   -----  \n",
      " 0   id              423397 non-null  int64  \n",
      " 1   name            423397 non-null  object \n",
      " 2   menus_appeared  423397 non-null  int64  \n",
      " 3   times_appeared  423397 non-null  int64  \n",
      " 4   first_appeared  423397 non-null  int64  \n",
      " 5   last_appeared   423397 non-null  int64  \n",
      " 6   lowest_price    394297 non-null  float64\n",
      " 7   highest_price   394297 non-null  float64\n",
      "dtypes: float64(2), int64(5), object(1)\n",
      "memory usage: 29.1+ MB\n",
      "None\n"
     ]
    }
   ],
   "source": [
    "print(no_dup_dish.info())"
   ]
  },
  {
   "cell_type": "markdown",
   "id": "d9051137-32a5-4b01-ac13-15568c7c1314",
   "metadata": {},
   "source": [
    "# Fix times_appeared negative values"
   ]
  },
  {
   "cell_type": "code",
   "execution_count": 18,
   "id": "b81fb5d5-1083-48a0-ae72-48304bb78529",
   "metadata": {},
   "outputs": [],
   "source": [
    "# Change negative values in times_appeared to 0\n",
    "dish['times_appeared'] = dish['times_appeared'].where(dish['times_appeared'] >= 0, 0)"
   ]
  },
  {
   "cell_type": "code",
   "execution_count": 19,
   "id": "f7352556-bf84-4c80-8588-59e934abf2f5",
   "metadata": {},
   "outputs": [
    {
     "name": "stdout",
     "output_type": "stream",
     "text": [
      "IDs:\n",
      "count    423397.000000\n",
      "mean          3.146872\n",
      "std          29.962110\n",
      "min           0.000000\n",
      "25%           1.000000\n",
      "50%           1.000000\n",
      "75%           1.000000\n",
      "max        8484.000000\n",
      "Name: times_appeared, dtype: float64\n"
     ]
    }
   ],
   "source": [
    "times_appeared = dish[\"times_appeared\"].describe(include='all')\n",
    "print(f\"IDs:\\n{times_appeared}\")"
   ]
  },
  {
   "cell_type": "markdown",
   "id": "fa2cb00d-5cd4-493c-a8a8-07ceee4c86c6",
   "metadata": {},
   "source": [
    "# Fix first_appeared dates"
   ]
  },
  {
   "cell_type": "code",
   "execution_count": 20,
   "id": "4b8ce626-433c-4b58-815b-392f2ecbc37b",
   "metadata": {},
   "outputs": [],
   "source": [
    "# Update first_appeared column with conditions\n",
    "dish['first_appeared'] = dish['first_appeared'].clip(lower=1840, upper=2008)"
   ]
  },
  {
   "cell_type": "code",
   "execution_count": 21,
   "id": "d33c587b-de2c-41b1-8980-26645a7d2350",
   "metadata": {},
   "outputs": [
    {
     "name": "stdout",
     "output_type": "stream",
     "text": [
      "IDs:\n",
      "count    423397.000000\n",
      "mean       1916.638954\n",
      "std          40.496916\n",
      "min        1840.000000\n",
      "25%        1900.000000\n",
      "50%        1914.000000\n",
      "75%        1949.000000\n",
      "max        2008.000000\n",
      "Name: first_appeared, dtype: float64\n"
     ]
    }
   ],
   "source": [
    "first_appeared = dish[\"first_appeared\"].describe(include='all')\n",
    "print(f\"IDs:\\n{first_appeared}\")"
   ]
  },
  {
   "cell_type": "markdown",
   "id": "ff3483d7-5df7-4539-abbd-2f91c10c452f",
   "metadata": {},
   "source": [
    "# Fix first_appeared dates"
   ]
  },
  {
   "cell_type": "code",
   "execution_count": 22,
   "id": "2c11efe0-3ba4-4356-b073-a86da3c59d42",
   "metadata": {},
   "outputs": [],
   "source": [
    "# Update first_appeared column with conditions\n",
    "dish['last_appeared'] = dish['last_appeared'].clip(lower=1840, upper=2008)"
   ]
  },
  {
   "cell_type": "code",
   "execution_count": 23,
   "id": "ba4ac651-4b96-4e4f-b655-8d20486690f2",
   "metadata": {},
   "outputs": [
    {
     "name": "stdout",
     "output_type": "stream",
     "text": [
      "IDs:\n",
      "count    423397.000000\n",
      "mean       1919.315399\n",
      "std          41.204832\n",
      "min        1840.000000\n",
      "25%        1900.000000\n",
      "50%        1917.000000\n",
      "75%        1955.000000\n",
      "max        2008.000000\n",
      "Name: last_appeared, dtype: float64\n"
     ]
    }
   ],
   "source": [
    "last_appeared = dish[\"last_appeared\"].describe(include='all')\n",
    "print(f\"IDs:\\n{last_appeared}\")"
   ]
  },
  {
   "cell_type": "markdown",
   "id": "b4ca08e3-fad6-4ca9-8691-e57d615d97f8",
   "metadata": {},
   "source": [
    "# Write the clean csv file"
   ]
  },
  {
   "cell_type": "code",
   "execution_count": 24,
   "id": "945d458b-a8c1-4a33-98ea-9670b045cdf1",
   "metadata": {},
   "outputs": [],
   "source": [
    "# Create a CSV file from the dataframe\n",
    "dish.to_csv('Dish_clearn.csv', index=False)"
   ]
  },
  {
   "cell_type": "code",
   "execution_count": null,
   "id": "57590088-d2fb-4c51-bcf1-ee48640cf24a",
   "metadata": {},
   "outputs": [],
   "source": []
  }
 ],
 "metadata": {
  "kernelspec": {
   "display_name": "Python 3 (ipykernel)",
   "language": "python",
   "name": "python3"
  },
  "language_info": {
   "codemirror_mode": {
    "name": "ipython",
    "version": 3
   },
   "file_extension": ".py",
   "mimetype": "text/x-python",
   "name": "python",
   "nbconvert_exporter": "python",
   "pygments_lexer": "ipython3",
   "version": "3.10.13"
  }
 },
 "nbformat": 4,
 "nbformat_minor": 5
}
